{
  "cells": [
    {
      "cell_type": "markdown",
      "metadata": {
        "id": "METkdkwPjfrI"
      },
      "source": [
        "Practice space"
      ]
    },
    {
      "cell_type": "code",
      "source": [],
      "metadata": {
        "id": "Y3KPbad3juYX"
      },
      "execution_count": null,
      "outputs": []
    }
  ],
  "metadata": {
    "language_info": {
      "name": "python"
    },
    "colab": {
      "provenance": []
    }
  },
  "nbformat": 4,
  "nbformat_minor": 0
}
