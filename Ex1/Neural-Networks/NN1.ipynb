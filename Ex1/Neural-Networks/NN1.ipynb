{
  "nbformat": 4,
  "nbformat_minor": 0,
  "metadata": {
    "colab": {
      "provenance": [],
      "authorship_tag": "ABX9TyM/LCWIckNoI1Dj3DA1A41p",
      "include_colab_link": true
    },
    "kernelspec": {
      "name": "python3",
      "display_name": "Python 3"
    },
    "language_info": {
      "name": "python"
    }
  },
  "cells": [
    {
      "cell_type": "markdown",
      "metadata": {
        "id": "view-in-github",
        "colab_type": "text"
      },
      "source": [
        "<a href=\"https://colab.research.google.com/github/atulhari/network-practice/blob/main/Ex1/Neural-Networks/NN1.ipynb\" target=\"_parent\"><img src=\"https://colab.research.google.com/assets/colab-badge.svg\" alt=\"Open In Colab\"/></a>"
      ]
    },
    {
      "cell_type": "markdown",
      "source": [
        "# In this exercise we will build a Neural network with one hidden layer."
      ],
      "metadata": {
        "id": "srzencbUqUt3"
      }
    },
    {
      "cell_type": "code",
      "source": [
        "import numpy as np\n",
        "import matplotlib.pyplot as plt\n",
        "import sklearn\n",
        "import sklearn.datasets\n",
        "import sklearn.linear_model\n",
        "\n",
        "\n",
        "%matplotlib inline\n",
        "# We set the seed so that the results are consistant accross runs.\n",
        "np.random.seed(1)"
      ],
      "metadata": {
        "id": "r6RGbtYEqbs-"
      },
      "execution_count": 2,
      "outputs": []
    },
    {
      "cell_type": "code",
      "source": [],
      "metadata": {
        "id": "AUBGOzhTsIqa"
      },
      "execution_count": null,
      "outputs": []
    }
  ]
}